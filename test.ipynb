{
 "cells": [
  {
   "cell_type": "code",
   "execution_count": 1,
   "metadata": {},
   "outputs": [],
   "source": [
    "from engine import DataCRUD\n",
    "from engine import DataLoader\n",
    "from engine import DataStream"
   ]
  },
  {
   "cell_type": "code",
   "execution_count": 2,
   "metadata": {},
   "outputs": [],
   "source": [
    "data_path = '/Volumes/SJH/DataStore/click/0101_20220214135917_0004_00.img' # input data path"
   ]
  },
  {
   "cell_type": "code",
   "execution_count": 3,
   "metadata": {},
   "outputs": [
    {
     "ename": "FileNotFoundError",
     "evalue": "[Errno 2] No such file or directory: '0101_20220214135917_0004_00.img/0101_20220214135917_0004_00'",
     "output_type": "error",
     "traceback": [
      "\u001b[0;31m---------------------------------------------------------------------------\u001b[0m",
      "\u001b[0;31mFileNotFoundError\u001b[0m                         Traceback (most recent call last)",
      "\u001b[1;32m/Users/shinjunho/workspace/study/PyRawVideoPlayer/test.ipynb 셀 3\u001b[0m in \u001b[0;36m<cell line: 1>\u001b[0;34m()\u001b[0m\n\u001b[0;32m----> <a href='vscode-notebook-cell:/Users/shinjunho/workspace/study/PyRawVideoPlayer/test.ipynb#W2sZmlsZQ%3D%3D?line=0'>1</a>\u001b[0m DataLoader\u001b[39m.\u001b[39;49mDataLoader\u001b[39m.\u001b[39;49mMainOps(data_path)\n",
      "File \u001b[0;32m~/workspace/study/PyRawVideoPlayer/engine/DataLoader.py:52\u001b[0m, in \u001b[0;36mDataLoader.MainOps\u001b[0;34m(root)\u001b[0m\n\u001b[1;32m     50\u001b[0m     \u001b[39mreturn\u001b[39;00m img_data_path, traj_data_path\n\u001b[1;32m     51\u001b[0m \u001b[39melse\u001b[39;00m:\n\u001b[0;32m---> 52\u001b[0m     new_data_path \u001b[39m=\u001b[39m os\u001b[39m.\u001b[39;49mmkdir(os\u001b[39m.\u001b[39;49mpath\u001b[39m.\u001b[39;49mjoin(splited_path, data_name)) \u001b[39m# if not, make new data folder\u001b[39;00m\n\u001b[1;32m     53\u001b[0m     org_new_data \u001b[39m=\u001b[39m os\u001b[39m.\u001b[39mmkdir(os\u001b[39m.\u001b[39mpath\u001b[39m.\u001b[39mjoin(splited_path, data_name \u001b[39m+\u001b[39m \u001b[39m'\u001b[39m\u001b[39m/img/\u001b[39m\u001b[39m'\u001b[39m)) \u001b[39mand\u001b[39;00m shutil\u001b[39m.\u001b[39mmove(data_name \u001b[39m+\u001b[39m \u001b[39m\"\u001b[39m\u001b[39m.tck\u001b[39m\u001b[39m\"\u001b[39m, splited_path \u001b[39m+\u001b[39m data_name)\n\u001b[1;32m     55\u001b[0m     \u001b[39m# if json folder exists, load the first json file. if not, create json folder\u001b[39;00m\n",
      "\u001b[0;31mFileNotFoundError\u001b[0m: [Errno 2] No such file or directory: '0101_20220214135917_0004_00.img/0101_20220214135917_0004_00'"
     ]
    }
   ],
   "source": [
    "DataLoader.DataLoader.MainOps(data_path) # load data"
   ]
  }
 ],
 "metadata": {
  "kernelspec": {
   "display_name": "Python 3.9.12 ('base')",
   "language": "python",
   "name": "python3"
  },
  "language_info": {
   "codemirror_mode": {
    "name": "ipython",
    "version": 3
   },
   "file_extension": ".py",
   "mimetype": "text/x-python",
   "name": "python",
   "nbconvert_exporter": "python",
   "pygments_lexer": "ipython3",
   "version": "3.9.12"
  },
  "orig_nbformat": 4,
  "vscode": {
   "interpreter": {
    "hash": "02a942a852f07f289ffce4751654d4522bbd66135126b71ecbbe4de9937f2a0e"
   }
  }
 },
 "nbformat": 4,
 "nbformat_minor": 2
}
