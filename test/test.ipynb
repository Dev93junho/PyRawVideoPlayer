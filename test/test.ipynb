{
 "cells": [
  {
   "cell_type": "code",
   "execution_count": 2,
   "metadata": {},
   "outputs": [],
   "source": [
    "from engine import DataCRUD\n",
    "from engine import DataLoader\n",
    "from engine import DataStream"
   ]
  },
  {
   "cell_type": "code",
   "execution_count": 3,
   "metadata": {},
   "outputs": [],
   "source": [
    "data_path = '/Volumes/SJH/DataStore/click/0101_20220214135917_0004_00.img' # D2107\n",
    "# data_path = '/Users/shinjunho/Library/CloudStorage/OneDrive-개인/data/airtouch/test_data/0101_20220214135700_0001_00.tck' # 1207"
   ]
  },
  {
   "cell_type": "code",
   "execution_count": 6,
   "metadata": {},
   "outputs": [
    {
     "name": "stdout",
     "output_type": "stream",
     "text": [
      "/Volumes/SJH/DataStore/click 0101_20220214135917_0004_00\n"
     ]
    },
    {
     "ename": "FileExistsError",
     "evalue": "[Errno 17] File exists: '/Volumes/SJH/DataStore/click/0101_20220214135917_0004_00'",
     "output_type": "error",
     "traceback": [
      "\u001b[0;31m---------------------------------------------------------------------------\u001b[0m",
      "\u001b[0;31mFileExistsError\u001b[0m                           Traceback (most recent call last)",
      "\u001b[1;32m/Users/shinjunho/workspace/study/PyRawVideoPlayer/test.ipynb 셀 3\u001b[0m in \u001b[0;36m<cell line: 1>\u001b[0;34m()\u001b[0m\n\u001b[0;32m----> <a href='vscode-notebook-cell:/Users/shinjunho/workspace/study/PyRawVideoPlayer/test.ipynb#W2sZmlsZQ%3D%3D?line=0'>1</a>\u001b[0m DataLoader\u001b[39m.\u001b[39;49mDataLoader\u001b[39m.\u001b[39;49mMainOps(data_path)\n",
      "File \u001b[0;32m~/workspace/study/PyRawVideoPlayer/engine/DataLoader.py:51\u001b[0m, in \u001b[0;36mDataLoader.MainOps\u001b[0;34m(root)\u001b[0m\n\u001b[1;32m     49\u001b[0m     \u001b[39mreturn\u001b[39;00m img_data_path, traj_data_path\n\u001b[1;32m     50\u001b[0m \u001b[39melse\u001b[39;00m:\n\u001b[0;32m---> 51\u001b[0m     new_data_path \u001b[39m=\u001b[39m os\u001b[39m.\u001b[39;49mmkdir(os\u001b[39m.\u001b[39;49mpath\u001b[39m.\u001b[39;49mjoin(splited_path, data_name)) \u001b[39m# if not, make new data folder\u001b[39;00m\n\u001b[1;32m     52\u001b[0m     org_new_data \u001b[39m=\u001b[39m os\u001b[39m.\u001b[39mmkdir(os\u001b[39m.\u001b[39mpath\u001b[39m.\u001b[39mjoin(splited_path, data_name \u001b[39m+\u001b[39m \u001b[39m'\u001b[39m\u001b[39m/img/\u001b[39m\u001b[39m'\u001b[39m)) \u001b[39m# and shutil.copy(splited_path + data_name + f\"/{data_name}.tck\", new_data_path)\u001b[39;00m\n\u001b[1;32m     53\u001b[0m     \u001b[39mreturn\u001b[39;00m new_data_path, org_new_data\n",
      "\u001b[0;31mFileExistsError\u001b[0m: [Errno 17] File exists: '/Volumes/SJH/DataStore/click/0101_20220214135917_0004_00'"
     ]
    }
   ],
   "source": [
    "DataLoader.DataLoader.MainOps(data_path) # load data"
   ]
  },
  {
   "cell_type": "code",
   "execution_count": 20,
   "metadata": {},
   "outputs": [],
   "source": [
    "import numpy as np \n",
    "from PIL import Image\n",
    "\n",
    "def imgfile_read_frame(imgfile):\n",
    "    imghdr = np.fromfile(imgfile, dtype=np.int32, count=2)\n",
    "    if len(imghdr) < 2: return None\n",
    "    w, h = imghdr\n",
    "    if w * h <= 0: return None\n",
    "    r_img = np.fromfile(imgfile, dtype=np.int16, count=w*h)\n",
    "    if len(r_img) < w * h:\n",
    "        return None\n",
    "    \n",
    "    raw = np.fromfile(imgfile, dtype=np.uint16) # read raw data\n",
    "    # read and save per w*h in raw\n",
    "    for i in range(0, len(raw), w*h):\n",
    "        n = 0\n",
    "        if len(raw[i:i+w*h]) < w*h:\n",
    "            return None\n",
    "        else:\n",
    "            r_img = raw[i:i+w*h].reshape(h, w)\n",
    "            img = Image.fromarray(r_img)\n",
    "            img = img.convert('RGB')\n",
    "            print('converted')\n",
    "            img.save(f'/Users/shinjunho/workspace/study/test/{i}.png')\n"
   ]
  },
  {
   "cell_type": "code",
   "execution_count": 21,
   "metadata": {},
   "outputs": [],
   "source": [
    "imgfile_read_frame(data_path) # load data"
   ]
  },
  {
   "cell_type": "code",
   "execution_count": 18,
   "metadata": {},
   "outputs": [],
   "source": [
    "import os\n",
    "from PIL import Image \n",
    "# png player\n",
    "def png_player(path):\n",
    "    # PIL read png file\n",
    "    os.listdir(path) # listdir\n",
    "    for i in range(len(os.listdir(path))):\n",
    "        img = Image.open(f'{path}/{i}.png')\n",
    "        img.show()\n",
    "        print(f'{i}.png')\n",
    "        input('press any key to continue')\n",
    "        img.close()\n",
    "        \n",
    "        # load next png file\n",
    "        if i == len(os.listdir(path))-1:\n",
    "            print('end')\n",
    "            break\n",
    "    \n",
    "    "
   ]
  },
  {
   "cell_type": "code",
   "execution_count": 19,
   "metadata": {},
   "outputs": [
    {
     "name": "stdout",
     "output_type": "stream",
     "text": [
      "0.png\n"
     ]
    },
    {
     "ename": "FileNotFoundError",
     "evalue": "[Errno 2] No such file or directory: '/Users/shinjunho/workspace/study/test/1.png'",
     "output_type": "error",
     "traceback": [
      "\u001b[0;31m---------------------------------------------------------------------------\u001b[0m",
      "\u001b[0;31mFileNotFoundError\u001b[0m                         Traceback (most recent call last)",
      "\u001b[1;32m/Users/shinjunho/workspace/study/PyRawVideoPlayer/test.ipynb 셀 7\u001b[0m in \u001b[0;36m<cell line: 1>\u001b[0;34m()\u001b[0m\n\u001b[0;32m----> <a href='vscode-notebook-cell:/Users/shinjunho/workspace/study/PyRawVideoPlayer/test.ipynb#X10sZmlsZQ%3D%3D?line=0'>1</a>\u001b[0m png_player(\u001b[39m'\u001b[39;49m\u001b[39m/Users/shinjunho/workspace/study/test\u001b[39;49m\u001b[39m'\u001b[39;49m)\n",
      "\u001b[1;32m/Users/shinjunho/workspace/study/PyRawVideoPlayer/test.ipynb 셀 7\u001b[0m in \u001b[0;36mpng_player\u001b[0;34m(path)\u001b[0m\n\u001b[1;32m      <a href='vscode-notebook-cell:/Users/shinjunho/workspace/study/PyRawVideoPlayer/test.ipynb#X10sZmlsZQ%3D%3D?line=5'>6</a>\u001b[0m os\u001b[39m.\u001b[39mlistdir(path) \u001b[39m# listdir\u001b[39;00m\n\u001b[1;32m      <a href='vscode-notebook-cell:/Users/shinjunho/workspace/study/PyRawVideoPlayer/test.ipynb#X10sZmlsZQ%3D%3D?line=6'>7</a>\u001b[0m \u001b[39mfor\u001b[39;00m i \u001b[39min\u001b[39;00m \u001b[39mrange\u001b[39m(\u001b[39mlen\u001b[39m(os\u001b[39m.\u001b[39mlistdir(path))):\n\u001b[0;32m----> <a href='vscode-notebook-cell:/Users/shinjunho/workspace/study/PyRawVideoPlayer/test.ipynb#X10sZmlsZQ%3D%3D?line=7'>8</a>\u001b[0m     img \u001b[39m=\u001b[39m Image\u001b[39m.\u001b[39;49mopen(\u001b[39mf\u001b[39;49m\u001b[39m'\u001b[39;49m\u001b[39m{\u001b[39;49;00mpath\u001b[39m}\u001b[39;49;00m\u001b[39m/\u001b[39;49m\u001b[39m{\u001b[39;49;00mi\u001b[39m}\u001b[39;49;00m\u001b[39m.png\u001b[39;49m\u001b[39m'\u001b[39;49m)\n\u001b[1;32m      <a href='vscode-notebook-cell:/Users/shinjunho/workspace/study/PyRawVideoPlayer/test.ipynb#X10sZmlsZQ%3D%3D?line=8'>9</a>\u001b[0m     img\u001b[39m.\u001b[39mshow()\n\u001b[1;32m     <a href='vscode-notebook-cell:/Users/shinjunho/workspace/study/PyRawVideoPlayer/test.ipynb#X10sZmlsZQ%3D%3D?line=9'>10</a>\u001b[0m     \u001b[39mprint\u001b[39m(\u001b[39mf\u001b[39m\u001b[39m'\u001b[39m\u001b[39m{\u001b[39;00mi\u001b[39m}\u001b[39;00m\u001b[39m.png\u001b[39m\u001b[39m'\u001b[39m)\n",
      "File \u001b[0;32m~/opt/anaconda3/lib/python3.9/site-packages/PIL/Image.py:2953\u001b[0m, in \u001b[0;36mopen\u001b[0;34m(fp, mode, formats)\u001b[0m\n\u001b[1;32m   2950\u001b[0m     filename \u001b[39m=\u001b[39m fp\n\u001b[1;32m   2952\u001b[0m \u001b[39mif\u001b[39;00m filename:\n\u001b[0;32m-> 2953\u001b[0m     fp \u001b[39m=\u001b[39m builtins\u001b[39m.\u001b[39;49mopen(filename, \u001b[39m\"\u001b[39;49m\u001b[39mrb\u001b[39;49m\u001b[39m\"\u001b[39;49m)\n\u001b[1;32m   2954\u001b[0m     exclusive_fp \u001b[39m=\u001b[39m \u001b[39mTrue\u001b[39;00m\n\u001b[1;32m   2956\u001b[0m \u001b[39mtry\u001b[39;00m:\n",
      "\u001b[0;31mFileNotFoundError\u001b[0m: [Errno 2] No such file or directory: '/Users/shinjunho/workspace/study/test/1.png'"
     ]
    }
   ],
   "source": [
    "png_player('/Users/shinjunho/workspace/study/test') # load data"
   ]
  },
  {
   "cell_type": "code",
   "execution_count": 22,
   "metadata": {},
   "outputs": [],
   "source": [
    "import numpy as np\n",
    "\n",
    "graph_path = '/Volumes/SJH/DataStore/click/0101_20220214135917_0004_00.tck' # D2107\n",
    "\n",
    "def plot_graph(path):\n",
    "    data = np.fromfile(path, dtype=np.float32)\n",
    "    data = data.reshape(1000, 7)\n",
    "    return data"
   ]
  },
  {
   "cell_type": "code",
   "execution_count": 24,
   "metadata": {},
   "outputs": [
    {
     "data": {
      "text/plain": [
       "array([[409.     , 159.     , 499.     , ..., 170.12202, 542.7679 ,\n",
       "          0.     ],\n",
       "       [375.     , 131.     , 500.     , ..., 168.48889, 538.0826 ,\n",
       "          0.     ],\n",
       "       [340.     ,  97.     , 470.     , ..., 172.06297, 520.26544,\n",
       "          0.     ],\n",
       "       ...,\n",
       "       [317.     , 206.     , 162.     , ..., 184.1027 , 198.25482,\n",
       "          0.     ],\n",
       "       [351.     , 167.     , 153.     , ..., 177.51411, 200.02898,\n",
       "          0.     ],\n",
       "       [341.     , 197.     , 153.     , ..., 177.18993, 202.19252,\n",
       "          0.     ]], dtype=float32)"
      ]
     },
     "execution_count": 24,
     "metadata": {},
     "output_type": "execute_result"
    }
   ],
   "source": [
    "from matplotlib.backends.backend_qt5agg import FigureCanvasQTAgg as FigureCanvas\n",
    "import sys\n",
    "import matplotlib.pyplot as plt\n",
    "\n",
    "plot_graph(graph_path) # load data"
   ]
  }
 ],
 "metadata": {
  "kernelspec": {
   "display_name": "Python 3.9.12 ('base')",
   "language": "python",
   "name": "python3"
  },
  "language_info": {
   "codemirror_mode": {
    "name": "ipython",
    "version": 3
   },
   "file_extension": ".py",
   "mimetype": "text/x-python",
   "name": "python",
   "nbconvert_exporter": "python",
   "pygments_lexer": "ipython3",
   "version": "3.9.12"
  },
  "orig_nbformat": 4,
  "vscode": {
   "interpreter": {
    "hash": "02a942a852f07f289ffce4751654d4522bbd66135126b71ecbbe4de9937f2a0e"
   }
  }
 },
 "nbformat": 4,
 "nbformat_minor": 2
}
